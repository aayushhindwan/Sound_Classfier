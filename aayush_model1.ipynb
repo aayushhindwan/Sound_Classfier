{
  "nbformat": 4,
  "nbformat_minor": 0,
  "metadata": {
    "accelerator": "TPU",
    "colab": {
      "name": "aayush_model1.ipynb",
      "provenance": [],
      "collapsed_sections": []
    },
    "kernelspec": {
      "display_name": "Python 3",
      "name": "python3"
    }
  },
  "cells": [
    {
      "cell_type": "code",
      "metadata": {
        "id": "Oisec7M_qcah",
        "colab": {
          "base_uri": "https://localhost:8080/"
        },
        "outputId": "0cb60bc5-ceea-41e5-d600-812222940d5b"
      },
      "source": [
        "from google.colab import drive\n",
        "drive.mount('/content/drive')"
      ],
      "execution_count": null,
      "outputs": [
        {
          "output_type": "stream",
          "text": [
            "Mounted at /content/drive\n"
          ],
          "name": "stdout"
        }
      ]
    },
    {
      "cell_type": "code",
      "metadata": {
        "id": "lxrjSSxZqdoQ"
      },
      "source": [
        "import numpy as np\n",
        "from keras.layers import Dense, Activation, Flatten, Dropout, BatchNormalization\n",
        "from keras.models import Sequential, Model\n",
        "from keras.layers import Conv2D, MaxPooling2D\n",
        "from keras import regularizers, optimizers\n",
        "import pandas as pd\n",
        "from matplotlib import pyplot as plt\n",
        "import random "
      ],
      "execution_count": null,
      "outputs": []
    },
    {
      "cell_type": "code",
      "metadata": {
        "id": "V-dsVvHtsM-l"
      },
      "source": [
        ""
      ],
      "execution_count": null,
      "outputs": []
    },
    {
      "cell_type": "code",
      "metadata": {
        "id": "oS84kY1Esc4h",
        "colab": {
          "base_uri": "https://localhost:8080/"
        },
        "outputId": "5bd7b543-c888-4dd7-e438-b13dc1c53057"
      },
      "source": [
        "data=[None]*10\n",
        "for i in range(10):\n",
        "  location='/content/drive/MyDrive/sem5MlProject/dataset/PreProcessedData/augumentationALL_Mohnish1/fold'+str(i+1)+'.npy'\n",
        "  x=np.load(location,mmap_mode=None, allow_pickle=True, fix_imports=True, encoding='ASCII')\n",
        "  random_indices =np.random.choice(x.shape[0], size=1000, replace=False)\n",
        "  print(x.shape)\n",
        "  data[i]=x[random_indices]\n",
        "  "
      ],
      "execution_count": null,
      "outputs": [
        {
          "output_type": "stream",
          "text": [
            "(6111, 2)\n",
            "(6216, 2)\n",
            "(6475, 2)\n",
            "(6930, 2)\n",
            "(6552, 2)\n",
            "(5761, 2)\n",
            "(5866, 2)\n",
            "(5642, 2)\n",
            "(5712, 2)\n",
            "(5859, 2)\n"
          ],
          "name": "stdout"
        }
      ]
    },
    {
      "cell_type": "code",
      "metadata": {
        "id": "qQhdUWS8eW-Z"
      },
      "source": [
        "X_Train=[None]*10\n",
        "Y_Train=[None]*10\n",
        "X_Test=[None]*10\n",
        "Y_Test=[None]*10\n",
        "X_Valid=[None]*10\n",
        "Y_Valid=[None]*10\n"
      ],
      "execution_count": null,
      "outputs": []
    },
    {
      "cell_type": "code",
      "metadata": {
        "id": "kQaVhOrU8JxC"
      },
      "source": [
        "from sklearn.preprocessing import LabelEncoder\n",
        "lb = LabelEncoder()\n",
        "from keras.utils import np_utils\n",
        "model=[None]*10\n",
        "history=[None]*10\n",
        "from keras.callbacks import ModelCheckpoint\n",
        "\n",
        "checkpoint = ModelCheckpoint(\"/content/drive/MyDrive/sem5MlProject/best_model_1_may.hdf5\", monitor='loss', verbose=1,save_best_only=True, mode='auto', save_freq=20)"
      ],
      "execution_count": null,
      "outputs": []
    },
    {
      "cell_type": "markdown",
      "metadata": {
        "id": "i6GmflW6LKZn"
      },
      "source": [
        ""
      ]
    },
    {
      "cell_type": "code",
      "metadata": {
        "id": "Tak0Iztd8MOK",
        "colab": {
          "base_uri": "https://localhost:8080/"
        },
        "outputId": "e235456d-7800-4f6a-c901-a60e32dd397c"
      },
      "source": [
        " for i in range(2,10):\n",
        "   X_Train[i]=data[(i+4)%10][:,0:1]\n",
        "   Y_Train[i]=data[(i+4)%10][:,1:2]\n",
        "   X_Test[i]=data[i][:,0:1]\n",
        "   Y_Test[i]=data[i][:,1:2]\n",
        "   for j in range(i+1,(i+2)):\n",
        "      Y_Test[i]=np.concatenate((Y_Test[i],data[j%10][:,1:2]), axis=0)\n",
        "      X_Test[i]=np.concatenate((X_Test[i],data[j%10][:,0:1]), axis=0)\n",
        "   for j in range(i+5,i+10):\n",
        "      X_Train[i]=np.concatenate((X_Train[i],data[j%10][:,0:1]), axis=0)\n",
        "      Y_Train[i]=np.concatenate((Y_Train[i],data[j%10][:,1:2]), axis=0)\n",
        "    #print(i+1,\"th model\",'')\n",
        "   X_Train[i]=np.array(X_Train[i].tolist()).reshape(X_Train[i].shape[0],128,128,1)\n",
        "   Y_Train[i]=np.array(Y_Train[i].tolist())\n",
        "   X_Test[i]=np.array(X_Test[i].tolist()).reshape(X_Test[i].shape[0],128,128,1)\n",
        "   Y_Test[i]=np.array(Y_Test[i].tolist())\n",
        "   Y_Train[i] = np_utils.to_categorical(lb.fit_transform(Y_Train[i]))\n",
        "   Y_Test[i] = np_utils.to_categorical(lb.fit_transform(Y_Test[i]))\n",
        "  #print(X_Traini.shape,Y_Traini.shape)\n",
        "   model[i] = Sequential()\n",
        "   model[i].add(Conv2D(24, (5, 5), input_shape=(128, 128, 1)))\n",
        "   model[i].add(MaxPooling2D((4, 2), (4, 2)))\n",
        "   model[i].add(Activation('relu'))\n",
        "          \n",
        "   model[i].add(Conv2D(48, (5, 5)))\n",
        "   model[i].add(MaxPooling2D((4, 2), (4, 2)))\n",
        "   model[i].add(Activation('relu'))\n",
        "          \n",
        "   model[i].add(Conv2D(48, (5, 5)))\n",
        "   model[i].add(Activation('relu'))\n",
        "   model[i].add(Flatten())\n",
        "   model[i].add(Dropout(0.5))\n",
        "   model[i].add(Dense(64, kernel_regularizer=regularizers.l2(0.001)))\n",
        "   model[i].add(Activation('relu'))\n",
        "\n",
        "   model[i].add(Dropout(0.5))\n",
        "   model[i].add(Dense(10, activation='softmax',bias_regularizer=regularizers.l2(0.01), activity_regularizer=regularizers.l2(0.001),kernel_regularizer=regularizers.l2(0.001)))\n",
        "   model[i].load_weights('/content/drive/MyDrive/sem5MlProject/best_model_17_march.hdf5')\n",
        "   model[i].compile(optimizers.Adam(lr=0.001, decay=1e-6),loss=\"categorical_crossentropy\",metrics=[\"accuracy\"])\n",
        "   model[i].summary()\n",
        "   k=model[i].fit(X_Train[i], Y_Train[i],callbacks=[checkpoint], batch_size=500, epochs=100, validation_data = (X_Test[i],Y_Test[i]))\n",
        "   history[i]=k"
      ],
      "execution_count": null,
      "outputs": [
        {
          "output_type": "stream",
          "text": [
            "/usr/local/lib/python3.7/dist-packages/sklearn/preprocessing/_label.py:251: DataConversionWarning: A column-vector y was passed when a 1d array was expected. Please change the shape of y to (n_samples, ), for example using ravel().\n",
            "  y = column_or_1d(y, warn=True)\n"
          ],
          "name": "stderr"
        },
        {
          "output_type": "stream",
          "text": [
            "Model: \"sequential\"\n",
            "_________________________________________________________________\n",
            "Layer (type)                 Output Shape              Param #   \n",
            "=================================================================\n",
            "conv2d (Conv2D)              (None, 124, 124, 24)      624       \n",
            "_________________________________________________________________\n",
            "max_pooling2d (MaxPooling2D) (None, 31, 62, 24)        0         \n",
            "_________________________________________________________________\n",
            "activation (Activation)      (None, 31, 62, 24)        0         \n",
            "_________________________________________________________________\n",
            "conv2d_1 (Conv2D)            (None, 27, 58, 48)        28848     \n",
            "_________________________________________________________________\n",
            "max_pooling2d_1 (MaxPooling2 (None, 6, 29, 48)         0         \n",
            "_________________________________________________________________\n",
            "activation_1 (Activation)    (None, 6, 29, 48)         0         \n",
            "_________________________________________________________________\n",
            "conv2d_2 (Conv2D)            (None, 2, 25, 48)         57648     \n",
            "_________________________________________________________________\n",
            "activation_2 (Activation)    (None, 2, 25, 48)         0         \n",
            "_________________________________________________________________\n",
            "flatten (Flatten)            (None, 2400)              0         \n",
            "_________________________________________________________________\n",
            "dropout (Dropout)            (None, 2400)              0         \n",
            "_________________________________________________________________\n",
            "dense (Dense)                (None, 64)                153664    \n",
            "_________________________________________________________________\n",
            "activation_3 (Activation)    (None, 64)                0         \n",
            "_________________________________________________________________\n",
            "dropout_1 (Dropout)          (None, 64)                0         \n",
            "_________________________________________________________________\n",
            "dense_1 (Dense)              (None, 10)                650       \n",
            "=================================================================\n",
            "Total params: 241,434\n",
            "Trainable params: 241,434\n",
            "Non-trainable params: 0\n",
            "_________________________________________________________________\n",
            "12/12 [==============================] - 97s 8s/step - loss: 2.6556 - accuracy: 0.3218 - val_loss: 2.1119 - val_accuracy: 0.2450\n",
            "Model: \"sequential_1\"\n",
            "_________________________________________________________________\n",
            "Layer (type)                 Output Shape              Param #   \n",
            "=================================================================\n",
            "conv2d_3 (Conv2D)            (None, 124, 124, 24)      624       \n",
            "_________________________________________________________________\n",
            "max_pooling2d_2 (MaxPooling2 (None, 31, 62, 24)        0         \n",
            "_________________________________________________________________\n",
            "activation_4 (Activation)    (None, 31, 62, 24)        0         \n",
            "_________________________________________________________________\n",
            "conv2d_4 (Conv2D)            (None, 27, 58, 48)        28848     \n",
            "_________________________________________________________________\n",
            "max_pooling2d_3 (MaxPooling2 (None, 6, 29, 48)         0         \n",
            "_________________________________________________________________\n",
            "activation_5 (Activation)    (None, 6, 29, 48)         0         \n",
            "_________________________________________________________________\n",
            "conv2d_5 (Conv2D)            (None, 2, 25, 48)         57648     \n",
            "_________________________________________________________________\n",
            "activation_6 (Activation)    (None, 2, 25, 48)         0         \n",
            "_________________________________________________________________\n",
            "flatten_1 (Flatten)          (None, 2400)              0         \n",
            "_________________________________________________________________\n",
            "dropout_2 (Dropout)          (None, 2400)              0         \n",
            "_________________________________________________________________\n",
            "dense_2 (Dense)              (None, 64)                153664    \n",
            "_________________________________________________________________\n",
            "activation_7 (Activation)    (None, 64)                0         \n",
            "_________________________________________________________________\n",
            "dropout_3 (Dropout)          (None, 64)                0         \n",
            "_________________________________________________________________\n",
            "dense_3 (Dense)              (None, 10)                650       \n",
            "=================================================================\n",
            "Total params: 241,434\n",
            "Trainable params: 241,434\n",
            "Non-trainable params: 0\n",
            "_________________________________________________________________\n",
            " 8/12 [===================>..........] - ETA: 28s - loss: 2.9760 - accuracy: 0.2965\n",
            "Epoch 00001: loss improved from inf to 2.56077, saving model to /content/drive/MyDrive/sem5MlProject/best_model_1_may.hdf5\n",
            "12/12 [==============================] - 94s 8s/step - loss: 2.7612 - accuracy: 0.2983 - val_loss: 2.1219 - val_accuracy: 0.2430\n",
            "Model: \"sequential_2\"\n",
            "_________________________________________________________________\n",
            "Layer (type)                 Output Shape              Param #   \n",
            "=================================================================\n",
            "conv2d_6 (Conv2D)            (None, 124, 124, 24)      624       \n",
            "_________________________________________________________________\n",
            "max_pooling2d_4 (MaxPooling2 (None, 31, 62, 24)        0         \n",
            "_________________________________________________________________\n",
            "activation_8 (Activation)    (None, 31, 62, 24)        0         \n",
            "_________________________________________________________________\n",
            "conv2d_7 (Conv2D)            (None, 27, 58, 48)        28848     \n",
            "_________________________________________________________________\n",
            "max_pooling2d_5 (MaxPooling2 (None, 6, 29, 48)         0         \n",
            "_________________________________________________________________\n",
            "activation_9 (Activation)    (None, 6, 29, 48)         0         \n",
            "_________________________________________________________________\n",
            "conv2d_8 (Conv2D)            (None, 2, 25, 48)         57648     \n",
            "_________________________________________________________________\n",
            "activation_10 (Activation)   (None, 2, 25, 48)         0         \n",
            "_________________________________________________________________\n",
            "flatten_2 (Flatten)          (None, 2400)              0         \n",
            "_________________________________________________________________\n",
            "dropout_4 (Dropout)          (None, 2400)              0         \n",
            "_________________________________________________________________\n",
            "dense_4 (Dense)              (None, 64)                153664    \n",
            "_________________________________________________________________\n",
            "activation_11 (Activation)   (None, 64)                0         \n",
            "_________________________________________________________________\n",
            "dropout_5 (Dropout)          (None, 64)                0         \n",
            "_________________________________________________________________\n",
            "dense_5 (Dense)              (None, 10)                650       \n",
            "=================================================================\n",
            "Total params: 241,434\n",
            "Trainable params: 241,434\n",
            "Non-trainable params: 0\n",
            "_________________________________________________________________\n",
            "12/12 [==============================] - 94s 8s/step - loss: 2.7579 - accuracy: 0.2830 - val_loss: 2.0833 - val_accuracy: 0.2660\n",
            "Model: \"sequential_3\"\n",
            "_________________________________________________________________\n",
            "Layer (type)                 Output Shape              Param #   \n",
            "=================================================================\n",
            "conv2d_9 (Conv2D)            (None, 124, 124, 24)      624       \n",
            "_________________________________________________________________\n",
            "max_pooling2d_6 (MaxPooling2 (None, 31, 62, 24)        0         \n",
            "_________________________________________________________________\n",
            "activation_12 (Activation)   (None, 31, 62, 24)        0         \n",
            "_________________________________________________________________\n",
            "conv2d_10 (Conv2D)           (None, 27, 58, 48)        28848     \n",
            "_________________________________________________________________\n",
            "max_pooling2d_7 (MaxPooling2 (None, 6, 29, 48)         0         \n",
            "_________________________________________________________________\n",
            "activation_13 (Activation)   (None, 6, 29, 48)         0         \n",
            "_________________________________________________________________\n",
            "conv2d_11 (Conv2D)           (None, 2, 25, 48)         57648     \n",
            "_________________________________________________________________\n",
            "activation_14 (Activation)   (None, 2, 25, 48)         0         \n",
            "_________________________________________________________________\n",
            "flatten_3 (Flatten)          (None, 2400)              0         \n",
            "_________________________________________________________________\n",
            "dropout_6 (Dropout)          (None, 2400)              0         \n",
            "_________________________________________________________________\n",
            "dense_6 (Dense)              (None, 64)                153664    \n",
            "_________________________________________________________________\n",
            "activation_15 (Activation)   (None, 64)                0         \n",
            "_________________________________________________________________\n",
            "dropout_7 (Dropout)          (None, 64)                0         \n",
            "_________________________________________________________________\n",
            "dense_7 (Dense)              (None, 10)                650       \n",
            "=================================================================\n",
            "Total params: 241,434\n",
            "Trainable params: 241,434\n",
            "Non-trainable params: 0\n",
            "_________________________________________________________________\n",
            " 4/12 [=========>....................] - ETA: 56s - loss: 3.5022 - accuracy: 0.2720 \n",
            "Epoch 00001: loss did not improve from 2.56077\n",
            "12/12 [==============================] - 95s 8s/step - loss: 2.9144 - accuracy: 0.2675 - val_loss: 2.0547 - val_accuracy: 0.3025\n",
            "Model: \"sequential_4\"\n",
            "_________________________________________________________________\n",
            "Layer (type)                 Output Shape              Param #   \n",
            "=================================================================\n",
            "conv2d_12 (Conv2D)           (None, 124, 124, 24)      624       \n",
            "_________________________________________________________________\n",
            "max_pooling2d_8 (MaxPooling2 (None, 31, 62, 24)        0         \n",
            "_________________________________________________________________\n",
            "activation_16 (Activation)   (None, 31, 62, 24)        0         \n",
            "_________________________________________________________________\n",
            "conv2d_13 (Conv2D)           (None, 27, 58, 48)        28848     \n",
            "_________________________________________________________________\n",
            "max_pooling2d_9 (MaxPooling2 (None, 6, 29, 48)         0         \n",
            "_________________________________________________________________\n",
            "activation_17 (Activation)   (None, 6, 29, 48)         0         \n",
            "_________________________________________________________________\n",
            "conv2d_14 (Conv2D)           (None, 2, 25, 48)         57648     \n",
            "_________________________________________________________________\n",
            "activation_18 (Activation)   (None, 2, 25, 48)         0         \n",
            "_________________________________________________________________\n",
            "flatten_4 (Flatten)          (None, 2400)              0         \n",
            "_________________________________________________________________\n",
            "dropout_8 (Dropout)          (None, 2400)              0         \n",
            "_________________________________________________________________\n",
            "dense_8 (Dense)              (None, 64)                153664    \n",
            "_________________________________________________________________\n",
            "activation_19 (Activation)   (None, 64)                0         \n",
            "_________________________________________________________________\n",
            "dropout_9 (Dropout)          (None, 64)                0         \n",
            "_________________________________________________________________\n",
            "dense_9 (Dense)              (None, 10)                650       \n",
            "=================================================================\n",
            "Total params: 241,434\n",
            "Trainable params: 241,434\n",
            "Non-trainable params: 0\n",
            "_________________________________________________________________\n",
            "12/12 [==============================] - ETA: 0s - loss: 2.8691 - accuracy: 0.2549\n",
            "Epoch 00001: loss improved from 2.56077 to 2.46428, saving model to /content/drive/MyDrive/sem5MlProject/best_model_1_may.hdf5\n",
            "12/12 [==============================] - 96s 8s/step - loss: 2.8380 - accuracy: 0.2550 - val_loss: 1.9596 - val_accuracy: 0.3295\n",
            "Model: \"sequential_5\"\n",
            "_________________________________________________________________\n",
            "Layer (type)                 Output Shape              Param #   \n",
            "=================================================================\n",
            "conv2d_15 (Conv2D)           (None, 124, 124, 24)      624       \n",
            "_________________________________________________________________\n",
            "max_pooling2d_10 (MaxPooling (None, 31, 62, 24)        0         \n",
            "_________________________________________________________________\n",
            "activation_20 (Activation)   (None, 31, 62, 24)        0         \n",
            "_________________________________________________________________\n",
            "conv2d_16 (Conv2D)           (None, 27, 58, 48)        28848     \n",
            "_________________________________________________________________\n",
            "max_pooling2d_11 (MaxPooling (None, 6, 29, 48)         0         \n",
            "_________________________________________________________________\n",
            "activation_21 (Activation)   (None, 6, 29, 48)         0         \n",
            "_________________________________________________________________\n",
            "conv2d_17 (Conv2D)           (None, 2, 25, 48)         57648     \n",
            "_________________________________________________________________\n",
            "activation_22 (Activation)   (None, 2, 25, 48)         0         \n",
            "_________________________________________________________________\n",
            "flatten_5 (Flatten)          (None, 2400)              0         \n",
            "_________________________________________________________________\n",
            "dropout_10 (Dropout)         (None, 2400)              0         \n",
            "_________________________________________________________________\n",
            "dense_10 (Dense)             (None, 64)                153664    \n",
            "_________________________________________________________________\n",
            "activation_23 (Activation)   (None, 64)                0         \n",
            "_________________________________________________________________\n",
            "dropout_11 (Dropout)         (None, 64)                0         \n",
            "_________________________________________________________________\n",
            "dense_11 (Dense)             (None, 10)                650       \n",
            "=================================================================\n",
            "Total params: 241,434\n",
            "Trainable params: 241,434\n",
            "Non-trainable params: 0\n",
            "_________________________________________________________________\n",
            "12/12 [==============================] - 103s 9s/step - loss: 2.9393 - accuracy: 0.2534 - val_loss: 1.9764 - val_accuracy: 0.3435\n",
            "Model: \"sequential_6\"\n",
            "_________________________________________________________________\n",
            "Layer (type)                 Output Shape              Param #   \n",
            "=================================================================\n",
            "conv2d_18 (Conv2D)           (None, 124, 124, 24)      624       \n",
            "_________________________________________________________________\n",
            "max_pooling2d_12 (MaxPooling (None, 31, 62, 24)        0         \n",
            "_________________________________________________________________\n",
            "activation_24 (Activation)   (None, 31, 62, 24)        0         \n",
            "_________________________________________________________________\n",
            "conv2d_19 (Conv2D)           (None, 27, 58, 48)        28848     \n",
            "_________________________________________________________________\n",
            "max_pooling2d_13 (MaxPooling (None, 6, 29, 48)         0         \n",
            "_________________________________________________________________\n",
            "activation_25 (Activation)   (None, 6, 29, 48)         0         \n",
            "_________________________________________________________________\n",
            "conv2d_20 (Conv2D)           (None, 2, 25, 48)         57648     \n",
            "_________________________________________________________________\n",
            "activation_26 (Activation)   (None, 2, 25, 48)         0         \n",
            "_________________________________________________________________\n",
            "flatten_6 (Flatten)          (None, 2400)              0         \n",
            "_________________________________________________________________\n",
            "dropout_12 (Dropout)         (None, 2400)              0         \n",
            "_________________________________________________________________\n",
            "dense_12 (Dense)             (None, 64)                153664    \n",
            "_________________________________________________________________\n",
            "activation_27 (Activation)   (None, 64)                0         \n",
            "_________________________________________________________________\n",
            "dropout_13 (Dropout)         (None, 64)                0         \n",
            "_________________________________________________________________\n",
            "dense_13 (Dense)             (None, 10)                650       \n",
            "=================================================================\n",
            "Total params: 241,434\n",
            "Trainable params: 241,434\n",
            "Non-trainable params: 0\n",
            "_________________________________________________________________\n",
            " 8/12 [===================>..........] - ETA: 28s - loss: 3.0714 - accuracy: 0.2709\n",
            "Epoch 00001: loss did not improve from 2.46428\n",
            "12/12 [==============================] - 94s 8s/step - loss: 2.8604 - accuracy: 0.2672 - val_loss: 1.9448 - val_accuracy: 0.3280\n",
            "Model: \"sequential_7\"\n",
            "_________________________________________________________________\n",
            "Layer (type)                 Output Shape              Param #   \n",
            "=================================================================\n",
            "conv2d_21 (Conv2D)           (None, 124, 124, 24)      624       \n",
            "_________________________________________________________________\n",
            "max_pooling2d_14 (MaxPooling (None, 31, 62, 24)        0         \n",
            "_________________________________________________________________\n",
            "activation_28 (Activation)   (None, 31, 62, 24)        0         \n",
            "_________________________________________________________________\n",
            "conv2d_22 (Conv2D)           (None, 27, 58, 48)        28848     \n",
            "_________________________________________________________________\n",
            "max_pooling2d_15 (MaxPooling (None, 6, 29, 48)         0         \n",
            "_________________________________________________________________\n",
            "activation_29 (Activation)   (None, 6, 29, 48)         0         \n",
            "_________________________________________________________________\n",
            "conv2d_23 (Conv2D)           (None, 2, 25, 48)         57648     \n",
            "_________________________________________________________________\n",
            "activation_30 (Activation)   (None, 2, 25, 48)         0         \n",
            "_________________________________________________________________\n",
            "flatten_7 (Flatten)          (None, 2400)              0         \n",
            "_________________________________________________________________\n",
            "dropout_14 (Dropout)         (None, 2400)              0         \n",
            "_________________________________________________________________\n",
            "dense_14 (Dense)             (None, 64)                153664    \n",
            "_________________________________________________________________\n",
            "activation_31 (Activation)   (None, 64)                0         \n",
            "_________________________________________________________________\n",
            "dropout_15 (Dropout)         (None, 64)                0         \n",
            "_________________________________________________________________\n",
            "dense_15 (Dense)             (None, 10)                650       \n",
            "=================================================================\n",
            "Total params: 241,434\n",
            "Trainable params: 241,434\n",
            "Non-trainable params: 0\n",
            "_________________________________________________________________\n"
          ],
          "name": "stdout"
        }
      ]
    },
    {
      "cell_type": "code",
      "metadata": {
        "id": "LUOsrpDngDBf"
      },
      "source": [
        "#    X_Valid[i]=np.concatenate((X_Valid[i],data[j%3][:,0:1]), axis=0)"
      ],
      "execution_count": null,
      "outputs": []
    },
    {
      "cell_type": "code",
      "metadata": {
        "id": "daeMUcEZDg8K"
      },
      "source": [
        ""
      ],
      "execution_count": null,
      "outputs": []
    },
    {
      "cell_type": "code",
      "metadata": {
        "id": "w8p_sqEjZWGj"
      },
      "source": [
        "\n",
        "\n"
      ],
      "execution_count": null,
      "outputs": []
    },
    {
      "cell_type": "markdown",
      "metadata": {
        "id": "ihYfSETB2SRZ"
      },
      "source": [
        "### Plotting Distribution of Data Set"
      ]
    },
    {
      "cell_type": "code",
      "metadata": {
        "id": "QSOa09lT2GJc"
      },
      "source": [
        "#%matplotlib inline\n",
        "#plt.hist(Y, bins = 20);\n",
        "#print(np.unique(Y))"
      ],
      "execution_count": null,
      "outputs": []
    },
    {
      "cell_type": "code",
      "metadata": {
        "id": "2zEJKNFFeiUV",
        "colab": {
          "base_uri": "https://localhost:8080/",
          "height": 639
        },
        "outputId": "0d73bfd1-05a1-4000-d6ef-67719af71e10"
      },
      "source": [
        "from matplotlib import pyplot as plt\n",
        "net = -1\n",
        "name_title = ['Loss','Accuracy']\n",
        "fig=plt.figure(figsize=(64,64))\n",
        "for i in range(0,2):\n",
        "    ax=fig.add_subplot(8,8,i+1)\n",
        "    plt.plot(history[net].history[list(history[net].history.keys())[i]], label = list(history[net].history.keys())[i] )\n",
        "    plt.plot(history[net].history[list(history[net].history.keys())[i+2]],label = list(history[net].history.keys())[i+2] )\n",
        "    plt.xlabel('Epochs', fontsize=18)\n",
        "    plt.ylabel(name_title[i], fontsize=18)\n",
        "    plt.legend()\n",
        "    plt.show()"
      ],
      "execution_count": null,
      "outputs": [
        {
          "output_type": "error",
          "ename": "NameError",
          "evalue": "ignored",
          "traceback": [
            "\u001b[0;31m---------------------------------------------------------------------------\u001b[0m",
            "\u001b[0;31mNameError\u001b[0m                                 Traceback (most recent call last)",
            "\u001b[0;32m<ipython-input-1-d751685cde6b>\u001b[0m in \u001b[0;36m<module>\u001b[0;34m()\u001b[0m\n\u001b[1;32m      5\u001b[0m \u001b[0;32mfor\u001b[0m \u001b[0mi\u001b[0m \u001b[0;32min\u001b[0m \u001b[0mrange\u001b[0m\u001b[0;34m(\u001b[0m\u001b[0;36m0\u001b[0m\u001b[0;34m,\u001b[0m\u001b[0;36m2\u001b[0m\u001b[0;34m)\u001b[0m\u001b[0;34m:\u001b[0m\u001b[0;34m\u001b[0m\u001b[0;34m\u001b[0m\u001b[0m\n\u001b[1;32m      6\u001b[0m     \u001b[0max\u001b[0m\u001b[0;34m=\u001b[0m\u001b[0mfig\u001b[0m\u001b[0;34m.\u001b[0m\u001b[0madd_subplot\u001b[0m\u001b[0;34m(\u001b[0m\u001b[0;36m8\u001b[0m\u001b[0;34m,\u001b[0m\u001b[0;36m8\u001b[0m\u001b[0;34m,\u001b[0m\u001b[0mi\u001b[0m\u001b[0;34m+\u001b[0m\u001b[0;36m1\u001b[0m\u001b[0;34m)\u001b[0m\u001b[0;34m\u001b[0m\u001b[0;34m\u001b[0m\u001b[0m\n\u001b[0;32m----> 7\u001b[0;31m     \u001b[0mplt\u001b[0m\u001b[0;34m.\u001b[0m\u001b[0mplot\u001b[0m\u001b[0;34m(\u001b[0m\u001b[0mhistory\u001b[0m\u001b[0;34m[\u001b[0m\u001b[0mnet\u001b[0m\u001b[0;34m]\u001b[0m\u001b[0;34m.\u001b[0m\u001b[0mhistory\u001b[0m\u001b[0;34m[\u001b[0m\u001b[0mlist\u001b[0m\u001b[0;34m(\u001b[0m\u001b[0mhistory\u001b[0m\u001b[0;34m[\u001b[0m\u001b[0mnet\u001b[0m\u001b[0;34m]\u001b[0m\u001b[0;34m.\u001b[0m\u001b[0mhistory\u001b[0m\u001b[0;34m.\u001b[0m\u001b[0mkeys\u001b[0m\u001b[0;34m(\u001b[0m\u001b[0;34m)\u001b[0m\u001b[0;34m)\u001b[0m\u001b[0;34m[\u001b[0m\u001b[0mi\u001b[0m\u001b[0;34m]\u001b[0m\u001b[0;34m]\u001b[0m\u001b[0;34m,\u001b[0m \u001b[0mlabel\u001b[0m \u001b[0;34m=\u001b[0m \u001b[0mlist\u001b[0m\u001b[0;34m(\u001b[0m\u001b[0mhistory\u001b[0m\u001b[0;34m[\u001b[0m\u001b[0mnet\u001b[0m\u001b[0;34m]\u001b[0m\u001b[0;34m.\u001b[0m\u001b[0mhistory\u001b[0m\u001b[0;34m.\u001b[0m\u001b[0mkeys\u001b[0m\u001b[0;34m(\u001b[0m\u001b[0;34m)\u001b[0m\u001b[0;34m)\u001b[0m\u001b[0;34m[\u001b[0m\u001b[0mi\u001b[0m\u001b[0;34m]\u001b[0m \u001b[0;34m)\u001b[0m\u001b[0;34m\u001b[0m\u001b[0;34m\u001b[0m\u001b[0m\n\u001b[0m\u001b[1;32m      8\u001b[0m     \u001b[0mplt\u001b[0m\u001b[0;34m.\u001b[0m\u001b[0mplot\u001b[0m\u001b[0;34m(\u001b[0m\u001b[0mhistory\u001b[0m\u001b[0;34m[\u001b[0m\u001b[0mnet\u001b[0m\u001b[0;34m]\u001b[0m\u001b[0;34m.\u001b[0m\u001b[0mhistory\u001b[0m\u001b[0;34m[\u001b[0m\u001b[0mlist\u001b[0m\u001b[0;34m(\u001b[0m\u001b[0mhistory\u001b[0m\u001b[0;34m[\u001b[0m\u001b[0mnet\u001b[0m\u001b[0;34m]\u001b[0m\u001b[0;34m.\u001b[0m\u001b[0mhistory\u001b[0m\u001b[0;34m.\u001b[0m\u001b[0mkeys\u001b[0m\u001b[0;34m(\u001b[0m\u001b[0;34m)\u001b[0m\u001b[0;34m)\u001b[0m\u001b[0;34m[\u001b[0m\u001b[0mi\u001b[0m\u001b[0;34m+\u001b[0m\u001b[0;36m2\u001b[0m\u001b[0;34m]\u001b[0m\u001b[0;34m]\u001b[0m\u001b[0;34m,\u001b[0m\u001b[0mlabel\u001b[0m \u001b[0;34m=\u001b[0m \u001b[0mlist\u001b[0m\u001b[0;34m(\u001b[0m\u001b[0mhistory\u001b[0m\u001b[0;34m[\u001b[0m\u001b[0mnet\u001b[0m\u001b[0;34m]\u001b[0m\u001b[0;34m.\u001b[0m\u001b[0mhistory\u001b[0m\u001b[0;34m.\u001b[0m\u001b[0mkeys\u001b[0m\u001b[0;34m(\u001b[0m\u001b[0;34m)\u001b[0m\u001b[0;34m)\u001b[0m\u001b[0;34m[\u001b[0m\u001b[0mi\u001b[0m\u001b[0;34m+\u001b[0m\u001b[0;36m2\u001b[0m\u001b[0;34m]\u001b[0m \u001b[0;34m)\u001b[0m\u001b[0;34m\u001b[0m\u001b[0;34m\u001b[0m\u001b[0m\n\u001b[1;32m      9\u001b[0m     \u001b[0mplt\u001b[0m\u001b[0;34m.\u001b[0m\u001b[0mxlabel\u001b[0m\u001b[0;34m(\u001b[0m\u001b[0;34m'Epochs'\u001b[0m\u001b[0;34m,\u001b[0m \u001b[0mfontsize\u001b[0m\u001b[0;34m=\u001b[0m\u001b[0;36m18\u001b[0m\u001b[0;34m)\u001b[0m\u001b[0;34m\u001b[0m\u001b[0;34m\u001b[0m\u001b[0m\n",
            "\u001b[0;31mNameError\u001b[0m: name 'history' is not defined"
          ]
        },
        {
          "output_type": "display_data",
          "data": {
            "image/png": "[encoded data removed]",
            "text/plain": [
              "<Figure size 4608x4608 with 1 Axes>"
            ]
          },
          "metadata": {
            "tags": [],
            "needs_background": "light"
          }
        }
      ]
    },
    {
      "cell_type": "code",
      "metadata": {
        "id": "kZLlhN423PJH"
      },
      "source": [
        ""
      ],
      "execution_count": null,
      "outputs": []
    }
  ]
}