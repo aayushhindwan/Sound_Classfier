{
  "nbformat": 4,
  "nbformat_minor": 0,
  "metadata": {
    "colab": {
      "name": "DataAugumentationFinal.ipynb",
      "provenance": [],
      "collapsed_sections": []
    },
    "kernelspec": {
      "name": "python3",
      "display_name": "Python 3"
    },
    "language_info": {
      "name": "python"
    }
  },
  "cells": [
    {
      "cell_type": "code",
      "metadata": {
        "colab": {
          "base_uri": "https://localhost:8080/"
        },
        "id": "_bNgHphOJ_bA",
        "outputId": "b1e7c3ed-cb1f-4407-85b2-dd1b0ddc4067"
      },
      "source": [
        "import librosa                    \n",
        "import librosa.display\n",
        "import matplotlib.pyplot as plt\n",
        "import numpy as np\n",
        "import os\n",
        "from google.colab import drive\n",
        "from librosa.core import istft\n",
        "drive.mount('/content/drive')"
      ],
      "execution_count": null,
      "outputs": [
        {
          "output_type": "stream",
          "text": [
            "Mounted at /content/drive\n"
          ],
          "name": "stdout"
        }
      ]
    },
    {
      "cell_type": "code",
      "metadata": {
        "id": "y-1EiqLei4BK"
      },
      "source": [
        "def doit(y):\n",
        "  if y.shape[0] < 65500:\n",
        "        y = np.append(y, np.full( (65500-y.shape[0]), np.mean(y)))\n",
        "  melSpec = librosa.feature.melspectrogram(y=y[:65500], sr=16000, n_mels=128)\n",
        "  melSpec_dB = librosa.power_to_db(melSpec, ref=np.max)\n",
        "  return melSpec_dB"
      ],
      "execution_count": null,
      "outputs": []
    },
    {
      "cell_type": "code",
      "metadata": {
        "id": "JE7_-iU6LASW"
      },
      "source": [
        "class AudioAugmentation:\n",
        "    def read_audio_file(self, file_path):\n",
        "        input_length = 65500\n",
        "        data = librosa.core.load(file_path)[0]\n",
        "        if len(data) > input_length:\n",
        "            data = data[:input_length]\n",
        "        else:\n",
        "            data = np.pad(data, (0, max(0, input_length - len(data))), \"constant\")\n",
        "        return data\n",
        "    def pitch_shift(self,data):\n",
        "        data=librosa.effects.pitch_shift(data, sr=16000, n_steps=3,bins_per_octave=24)\n",
        "        # if len(data) > input_length:\n",
        "        #     data = data[:input_length]\n",
        "        # else:\n",
        "        #     data = np.pad(data, (0, max(0, input_length - len(data))), \"constant\")\n",
        "        # return doit(data)\n",
        "        return data\n",
        "    def add_noise(self, data):\n",
        "        noise = np.random.randn(len(data))\n",
        "        data_noise = data + 0.005 * noise\n",
        "        return data_noise\n",
        "    def shift(self, data,count):\n",
        "        return (np.roll(data,count))\n",
        "        \n",
        "    def stretch(self, data, rate):\n",
        "        input_length = 65500\n",
        "        #data=istft(data)\n",
        "        data = librosa.effects.time_stretch(data, rate)\n",
        "        # if len(data) > input_length:\n",
        "        #     data = data[:input_length]\n",
        "        # else:\n",
        "        #     data = np.pad(data, (0, max(0, input_length - len(data))), \"constant\")\n",
        "        # return doit(data)\n",
        "        return data\n",
        "    def write_audio_file(self, file, data, sample_rate=16000):\n",
        "        librosa.output.write_wav(file, data, sample_rate)\n",
        "    def plot_time_series(self, data):\n",
        "        fig = plt.figure(figsize=(14, 8))\n",
        "        plt.title('Raw wave ')\n",
        "        plt.ylabel('Amplitude')\n",
        "        plt.plot(np.linspace(0, 1, len(data)), data)\n",
        "        plt.show()"
      ],
      "execution_count": null,
      "outputs": []
    },
    {
      "cell_type": "code",
      "metadata": {
        "id": "uDtppO7gatC1"
      },
      "source": [
        "def get_cat(file_name):\n",
        "    for i in range(len(file_name)):\n",
        "        if(file_name[i] == '-'):\n",
        "            return int(file_name[i+1])"
      ],
      "execution_count": null,
      "outputs": []
    },
    {
      "cell_type": "code",
      "metadata": {
        "colab": {
          "base_uri": "https://localhost:8080/"
        },
        "id": "7ptYKHRNMRqI",
        "outputId": "342a895d-ec0f-4c83-a01a-6f300c3aa542"
      },
      "source": [
        "# formatting the binary way \n",
        "# 0 to 7.\n",
        "aa = AudioAugmentation()\n",
        "base_dir = '/content/drive/My Drive/sem5MlProject/dataset/audio/'\n",
        "x=0;\n",
        "binary=[[0,0,0,0,0,0],[1,0,1,1,0,0],[0,1,0,1,0,0],[0,0,0,0,1,0],[0,0,0,0,0,1]] # speedUp speedDown pitchShift addNoise roll\n",
        "for fold in os.listdir(base_dir):\n",
        "  if fold!='fold9' and fold!='fold7':\n",
        "    continue\n",
        "  datalist=[]\n",
        "  for audio_file in os.listdir(base_dir+fold):\n",
        "    for l in binary:\n",
        "      data=aa.read_audio_file(base_dir+fold+'/'+audio_file)\n",
        "      if l[0]==1:\n",
        "        data=aa.stretch(data,0.9)\n",
        "      if l[1]==1:\n",
        "        data=aa.stretch(data,1.1)\n",
        "      if l[2]==1:\n",
        "        data=aa.pitch_shift(data)\n",
        "      if l[3]==1:\n",
        "        data=aa.add_noise(data)\n",
        "      if l[4]==1:\n",
        "        data=aa.shift(data,5000)\n",
        "      if l[5]==1:\n",
        "        data=aa.shift(data,10000)    \n",
        "      data=doit(data)\n",
        "      datalist.append([data,get_cat(audio_file)])\n",
        "    x=x+1\n",
        "    if x%100==0:\n",
        "      print(x)\n",
        "    #aa.plot_time_series(data)\n",
        "    #aa.write_audio_file('/content/drive/My Drive/sem5MlProject/dataset/Mohnish_augumentation/'+fold+audio_file,data)\n",
        "  np.save('/content/drive/MyDrive/sem5MlProject/dataset/PreProcessedData/augumentationALL_Mohnish3/'+fold+'.npy', datalist)\n",
        "  print(fold+' done')\n"
      ],
      "execution_count": null,
      "outputs": [
        {
          "output_type": "stream",
          "text": [
            "100\n",
            "200\n",
            "300\n",
            "400\n",
            "500\n",
            "600\n",
            "700\n",
            "800\n"
          ],
          "name": "stdout"
        },
        {
          "output_type": "stream",
          "text": [
            "/usr/local/lib/python3.7/dist-packages/numpy/core/_asarray.py:136: VisibleDeprecationWarning: Creating an ndarray from ragged nested sequences (which is a list-or-tuple of lists-or-tuples-or ndarrays with different lengths or shapes) is deprecated. If you meant to do this, you must specify 'dtype=object' when creating the ndarray\n",
            "  return array(a, dtype, copy=False, order=order, subok=True)\n"
          ],
          "name": "stderr"
        },
        {
          "output_type": "stream",
          "text": [
            "fold7 done\n",
            "900\n",
            "1000\n",
            "1100\n",
            "1200\n",
            "1300\n",
            "1400\n",
            "1500\n",
            "1600\n",
            "fold9 done\n"
          ],
          "name": "stdout"
        }
      ]
    },
    {
      "cell_type": "markdown",
      "metadata": {
        "id": "MzNpB1cUuU9X"
      },
      "source": [
        ""
      ]
    },
    {
      "cell_type": "code",
      "metadata": {
        "id": "SpolxsYpT3BZ"
      },
      "source": [
        ""
      ],
      "execution_count": null,
      "outputs": []
    }
  ]
}